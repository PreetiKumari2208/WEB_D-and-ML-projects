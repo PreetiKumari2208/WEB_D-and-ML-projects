{
  "nbformat": 4,
  "nbformat_minor": 0,
  "metadata": {
    "colab": {
      "provenance": [],
      "authorship_tag": "ABX9TyN02yU6XeKEprpFZEiJs+x7",
      "include_colab_link": true
    },
    "kernelspec": {
      "name": "python3",
      "display_name": "Python 3"
    },
    "language_info": {
      "name": "python"
    }
  },
  "cells": [
    {
      "cell_type": "markdown",
      "metadata": {
        "id": "view-in-github",
        "colab_type": "text"
      },
      "source": [
        "<a href=\"https://colab.research.google.com/github/PreetiKumari2208/explore/blob/main/Untitled4.ipynb\" target=\"_parent\"><img src=\"https://colab.research.google.com/assets/colab-badge.svg\" alt=\"Open In Colab\"/></a>"
      ]
    },
    {
      "cell_type": "code",
      "execution_count": 4,
      "metadata": {
        "colab": {
          "base_uri": "https://localhost:8080/"
        },
        "id": "iD5TUZWz5Cut",
        "outputId": "5a6eb97e-9e5b-4799-e950-d9c671eac32a"
      },
      "outputs": [
        {
          "output_type": "stream",
          "name": "stdout",
          "text": [
            "Requirement already satisfied: pandas in /usr/local/lib/python3.10/dist-packages (1.5.3)\n",
            "Requirement already satisfied: python-dateutil>=2.8.1 in /usr/local/lib/python3.10/dist-packages (from pandas) (2.8.2)\n",
            "Requirement already satisfied: pytz>=2020.1 in /usr/local/lib/python3.10/dist-packages (from pandas) (2023.3.post1)\n",
            "Requirement already satisfied: numpy>=1.21.0 in /usr/local/lib/python3.10/dist-packages (from pandas) (1.23.5)\n",
            "Requirement already satisfied: six>=1.5 in /usr/local/lib/python3.10/dist-packages (from python-dateutil>=2.8.1->pandas) (1.16.0)\n",
            "Requirement already satisfied: gensim in /usr/local/lib/python3.10/dist-packages (4.3.2)\n",
            "Requirement already satisfied: numpy>=1.18.5 in /usr/local/lib/python3.10/dist-packages (from gensim) (1.23.5)\n",
            "Requirement already satisfied: scipy>=1.7.0 in /usr/local/lib/python3.10/dist-packages (from gensim) (1.11.3)\n",
            "Requirement already satisfied: smart-open>=1.8.1 in /usr/local/lib/python3.10/dist-packages (from gensim) (6.4.0)\n",
            "Requirement already satisfied: numpy in /usr/local/lib/python3.10/dist-packages (1.23.5)\n",
            "Requirement already satisfied: fuzzywuzzy in /usr/local/lib/python3.10/dist-packages (0.18.0)\n"
          ]
        }
      ],
      "source": [
        "#impoting Dependencies\n",
        "!pip install pandas\n",
        "!pip install gensim\n",
        "!pip install numpy\n",
        "!pip install fuzzywuzzy\n",
        "import numpy as np\n",
        "\n",
        "from gensim.models import KeyedVectors\n",
        "from sklearn.metrics.pairwise import cosine_similarity"
      ]
    },
    {
      "cell_type": "code",
      "source": [
        "import pandas as pd\n",
        "\n",
        "\n",
        "encodings_to_try = ['utf-8', 'ISO-8859-1', 'cp1252', 'latin1']\n",
        "\n",
        "for encoding in encodings_to_try:\n",
        "    try:\n",
        "        data = pd.read_csv('phrases.csv', encoding=encoding)\n",
        "        phrases = data['Phrases'].tolist()\n",
        "        break  # Stop trying encodings once you've successfully loaded the data\n",
        "    except UnicodeDecodeError:\n",
        "        continue"
      ],
      "metadata": {
        "id": "c_n468mmSPKh"
      },
      "execution_count": 6,
      "outputs": []
    },
    {
      "cell_type": "code",
      "source": [
        "import gensim\n",
        "from gensim.models import KeyedVectors\n",
        "import pandas as pd\n",
        "import numpy as np\n",
        "from sklearn.metrics.pairwise import cosine_similarity\n",
        "from sklearn.feature_extraction.text import ENGLISH_STOP_WORDS\n",
        "from fuzzywuzzy import fuzz\n",
        "\n",
        "# Load pre-trained Word2Vec embeddings\n",
        "wv = KeyedVectors.load_word2vec_format('C:\\Users\\preeti kumari\\OneDrive\\.vscode\\Desktop\\bin', binary=True, limit=1000000)\n",
        "\n",
        "# Load the data from 'phrases.csv'\n",
        "data = pd.read_csv('phrases.csv', encoding='utf-8')\n",
        "phrases_column_name = 'Phrases'  # Replace with the correct column name\n",
        "\n",
        "# Tokenize phrases and clean data\n",
        "phrases = data[phrases_column_name].tolist()\n",
        "\n",
        "# Remove duplicates\n",
        "phrases = list(set(phrases))\n",
        "\n",
        "# Remove stopwords\n",
        "def remove_stopwords(phrase):\n",
        "    return ' '.join(word for word in phrase.split() if word not in ENGLISH_STOP_WORDS)\n",
        "\n",
        "phrases = [remove_stopwords(phrase) for phrase in phrases]\n",
        "\n",
        "# Identify and handle outliers (we can add your specific logic here for future improvement)\n",
        "\n",
        "# Function to replace a word with a similar word using Levenshtein distance\n",
        "def replace_word_with_similar(word):\n",
        "    similar_words = []\n",
        "    for wv_word in wv.vocab:\n",
        "        similarity = fuzz.ratio(word, wv_word)\n",
        "        if similarity >= 80:  # You can adjust the similarity threshold as needed\n",
        "            similar_words.append((wv_word, similarity))\n",
        "    if similar_words:\n",
        "        similar_words.sort(key=lambda x: x[1], reverse=True)\n",
        "        return similar_words[0][0]\n",
        "    return word  # If no similar word found, return the original word\n",
        "\n",
        "# Clean and tokenize phrases while replacing words\n",
        "cleaned_phrases = []\n",
        "for phrase in phrases:\n",
        "    cleaned_words = []\n",
        "    for word in phrase.split():\n",
        "        if word in wv:\n",
        "            cleaned_words.append(word)\n",
        "        else:\n",
        "            similar_word = replace_word_with_similar(word)\n",
        "            cleaned_words.append(similar_word)\n",
        "    cleaned_phrases.append(' '.join(cleaned_words))\n",
        "\n",
        "# Calculate cosine similarity between cleaned phrases\n",
        "cleaned_phrase_embeddings = [np.mean([wv[word] for word in phrase.split()], axis=0) for phrase in cleaned_phrases]\n",
        "cosine_similarities = cosine_similarity(cleaned_phrase_embeddings, cleaned_phrase_embeddings)\n",
        "\n",
        "# Function to find the closest match for a user-input phrase\n",
        "def find_closest_match(user_input_phrase):\n",
        "    user_input_phrase = remove_stopwords(user_input_phrase)\n",
        "    cleaned_user_input = ' '.join([replace_word_with_similar(word) for word in user_input_phrase.split() if word in wv])\n",
        "\n",
        "    user_input_embedding = np.mean([wv[word] for word in cleaned_user_input.split() if word in wv], axis=0)\n",
        "\n",
        "    # Calculate cosine similarities between the user input and all cleaned phrases\n",
        "    similarities = cosine_similarity([user_input_embedding], cleaned_phrase_embeddings)\n",
        "\n",
        "    # Find the index of the closest match\n",
        "    closest_match_index = np.argmax(similarities)\n",
        "\n",
        "    return phrases[closest_match_index], similarities[0][closest_match_index]\n",
        "\n",
        "# Example of on-the-fly execution\n",
        "user_input = \"Enter input here\"\n",
        "closest_match, similarity = find_closest_match(user_input)\n",
        "print(f\"Closest match: '{closest_match}' with similarity score: {similarity:.2f}\")\n",
        "\n"
      ],
      "metadata": {
        "id": "c6MhvWkRSjNz"
      },
      "execution_count": null,
      "outputs": []
    }
  ]
}